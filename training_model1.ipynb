{
 "cells": [
  {
   "cell_type": "code",
   "execution_count": 1,
   "metadata": {},
   "outputs": [
    {
     "name": "stderr",
     "output_type": "stream",
     "text": [
      "c:\\users\\son\\appdata\\local\\programs\\python\\python36\\lib\\site-packages\\h5py\\__init__.py:36: FutureWarning: Conversion of the second argument of issubdtype from `float` to `np.floating` is deprecated. In future, it will be treated as `np.float64 == np.dtype(float).type`.\n",
      "  from ._conv import register_converters as _register_converters\n",
      "Using TensorFlow backend.\n"
     ]
    }
   ],
   "source": [
    "import keras\n",
    "from keras.preprocessing.text import Tokenizer\n",
    "import string\n",
    "from keras.preprocessing.sequence import pad_sequences\n",
    "from keras.models import Sequential\n",
    "from keras.layers import Dense, Dropout, Embedding, SpatialDropout1D, LSTM,Input,Conv1D,GlobalMaxPooling1D,BatchNormalization,MaxPooling1D,Flatten\n",
    "from keras.layers.wrappers import Bidirectional \n",
    "from keras.callbacks import ModelCheckpoint,EarlyStopping\n",
    "import os\n",
    "from sklearn.metrics import roc_auc_score \n",
    "import matplotlib.pyplot as plt \n",
    "import pandas as pd\n",
    "from sklearn.model_selection import train_test_split\n",
    "from sklearn import preprocessing\n",
    "from keras.models import Model\n",
    "from keras.callbacks import EarlyStopping\n",
    "import re\n",
    "%matplotlib inline\n",
    "import numpy as np\n",
    "import pandas as pd\n",
    "from keras.utils import to_categorical\n",
    "import h5py"
   ]
  },
  {
   "cell_type": "markdown",
   "metadata": {},
   "source": [
    "#### load pre processed data sets"
   ]
  },
  {
   "cell_type": "code",
   "execution_count": 2,
   "metadata": {},
   "outputs": [],
   "source": [
    "fit_data = pd.read_pickle('training_set.pkl')"
   ]
  },
  {
   "cell_type": "code",
   "execution_count": 3,
   "metadata": {},
   "outputs": [
    {
     "data": {
      "text/plain": [
       "(3197922, 27)"
      ]
     },
     "execution_count": 3,
     "metadata": {},
     "output_type": "execute_result"
    }
   ],
   "source": [
    "fit_data.shape"
   ]
  },
  {
   "cell_type": "code",
   "execution_count": 4,
   "metadata": {},
   "outputs": [
    {
     "data": {
      "text/plain": [
       "Index(['ip', 'app', 'device', 'os', 'channel', 'hour', 'min', 'day',\n",
       "       'app_count', 'device_count', 'os_count', 'channel_count', 'click_count',\n",
       "       'apps', 'devices', 'oss', 'channels', 'adoc', 'app_count_min',\n",
       "       'device_count_min', 'os_count_min', 'channel_count_min',\n",
       "       'click_count_min', 'adoc_min', 'click_count_cumsum',\n",
       "       'click_count_cumsum_min', 'is_attributed'],\n",
       "      dtype='object')"
      ]
     },
     "execution_count": 4,
     "metadata": {},
     "output_type": "execute_result"
    }
   ],
   "source": [
    "fit_data.columns"
   ]
  },
  {
   "cell_type": "code",
   "execution_count": 5,
   "metadata": {},
   "outputs": [],
   "source": [
    "def convert_to_cat(df):\n",
    "    df['device'] = df.device.astype('object')\n",
    "    df['os'] = df.os.astype('object')\n",
    "    df['app'] = df.app.astype('object')\n",
    "    df['channel'] = df.channel.astype('object')\n",
    "    df['hour'] = df.hour.astype('object')\n",
    "    df['ip'] = df.ip.astype('object')\n",
    "    return df"
   ]
  },
  {
   "cell_type": "code",
   "execution_count": 6,
   "metadata": {},
   "outputs": [],
   "source": [
    "fit_data = convert_to_cat(fit_data)"
   ]
  },
  {
   "cell_type": "markdown",
   "metadata": {},
   "source": [
    "#### convert categorical into text for word embedding"
   ]
  },
  {
   "cell_type": "code",
   "execution_count": 7,
   "metadata": {},
   "outputs": [],
   "source": [
    "fit_data['cat'] = fit_data['app'].map(str)+'a '+fit_data['channel'].map(str)+'c '+ fit_data['device'].map(str)+'d '+\\\n",
    "fit_data['os'].map(str)+['os ']"
   ]
  },
  {
   "cell_type": "code",
   "execution_count": 8,
   "metadata": {},
   "outputs": [
    {
     "data": {
      "text/html": [
       "<div>\n",
       "<style scoped>\n",
       "    .dataframe tbody tr th:only-of-type {\n",
       "        vertical-align: middle;\n",
       "    }\n",
       "\n",
       "    .dataframe tbody tr th {\n",
       "        vertical-align: top;\n",
       "    }\n",
       "\n",
       "    .dataframe thead th {\n",
       "        text-align: right;\n",
       "    }\n",
       "</style>\n",
       "<table border=\"1\" class=\"dataframe\">\n",
       "  <thead>\n",
       "    <tr style=\"text-align: right;\">\n",
       "      <th></th>\n",
       "      <th>ip</th>\n",
       "      <th>app</th>\n",
       "      <th>device</th>\n",
       "      <th>os</th>\n",
       "      <th>channel</th>\n",
       "      <th>hour</th>\n",
       "      <th>min</th>\n",
       "      <th>day</th>\n",
       "      <th>app_count</th>\n",
       "      <th>device_count</th>\n",
       "      <th>...</th>\n",
       "      <th>app_count_min</th>\n",
       "      <th>device_count_min</th>\n",
       "      <th>os_count_min</th>\n",
       "      <th>channel_count_min</th>\n",
       "      <th>click_count_min</th>\n",
       "      <th>adoc_min</th>\n",
       "      <th>click_count_cumsum</th>\n",
       "      <th>click_count_cumsum_min</th>\n",
       "      <th>is_attributed</th>\n",
       "      <th>cat</th>\n",
       "    </tr>\n",
       "  </thead>\n",
       "  <tbody>\n",
       "    <tr>\n",
       "      <th>975869</th>\n",
       "      <td>109434</td>\n",
       "      <td>2</td>\n",
       "      <td>1</td>\n",
       "      <td>19</td>\n",
       "      <td>477</td>\n",
       "      <td>16</td>\n",
       "      <td>21</td>\n",
       "      <td>6</td>\n",
       "      <td>1.386294</td>\n",
       "      <td>0.0</td>\n",
       "      <td>...</td>\n",
       "      <td>0.0</td>\n",
       "      <td>0.0</td>\n",
       "      <td>0.0</td>\n",
       "      <td>0.0</td>\n",
       "      <td>0.693147</td>\n",
       "      <td>5.814131</td>\n",
       "      <td>10</td>\n",
       "      <td>0</td>\n",
       "      <td>0</td>\n",
       "      <td>2a 477c 1d 19os</td>\n",
       "    </tr>\n",
       "  </tbody>\n",
       "</table>\n",
       "<p>1 rows × 28 columns</p>\n",
       "</div>"
      ],
      "text/plain": [
       "            ip app device  os channel hour  min  day  app_count  device_count  \\\n",
       "975869  109434   2      1  19     477   16   21    6   1.386294           0.0   \n",
       "\n",
       "              ...         app_count_min  device_count_min  os_count_min  \\\n",
       "975869        ...                   0.0               0.0           0.0   \n",
       "\n",
       "        channel_count_min  click_count_min  adoc_min  click_count_cumsum  \\\n",
       "975869                0.0         0.693147  5.814131                  10   \n",
       "\n",
       "        click_count_cumsum_min  is_attributed               cat  \n",
       "975869                       0              0  2a 477c 1d 19os   \n",
       "\n",
       "[1 rows x 28 columns]"
      ]
     },
     "execution_count": 8,
     "metadata": {},
     "output_type": "execute_result"
    }
   ],
   "source": [
    "fit_data.head(1)"
   ]
  },
  {
   "cell_type": "code",
   "execution_count": 9,
   "metadata": {},
   "outputs": [],
   "source": [
    "# output directory name:\n",
    "output_dir = 'model_output/parallel/t50/'\n",
    "n_unique_words = 10000 \n",
    "max_text_length = 4 \n",
    "pad_type = trunc_type = 'pre'"
   ]
  },
  {
   "cell_type": "code",
   "execution_count": 10,
   "metadata": {},
   "outputs": [],
   "source": [
    "# instantiate tokenizer\n",
    "t = Tokenizer(num_words = n_unique_words)\n",
    "# index words on corpus\n",
    "t.fit_on_texts(fit_data.cat.astype(str))"
   ]
  },
  {
   "cell_type": "markdown",
   "metadata": {},
   "source": [
    "#### save tokenizer to use on test data later"
   ]
  },
  {
   "cell_type": "code",
   "execution_count": 46,
   "metadata": {},
   "outputs": [],
   "source": [
    "import pickle\n",
    "\n",
    "# saving\n",
    "with open('tokenizer.pickle', 'wb') as handle:\n",
    "    pickle.dump(t, handle, protocol=pickle.HIGHEST_PROTOCOL)"
   ]
  },
  {
   "cell_type": "code",
   "execution_count": 11,
   "metadata": {},
   "outputs": [],
   "source": [
    "fit_data['token_vec'] = t.texts_to_sequences(fit_data.cat.astype(str))"
   ]
  },
  {
   "cell_type": "code",
   "execution_count": 12,
   "metadata": {},
   "outputs": [],
   "source": [
    "def pad_seq(sequence):\n",
    "    return pad_sequences(sequence,maxlen=max_text_length,dtype='int32',padding='pre',truncating='pre',value=0.)"
   ]
  },
  {
   "cell_type": "code",
   "execution_count": 13,
   "metadata": {},
   "outputs": [],
   "source": [
    "train,validation = train_test_split(fit_data,test_size=0.3, random_state = 10)"
   ]
  },
  {
   "cell_type": "code",
   "execution_count": 14,
   "metadata": {},
   "outputs": [
    {
     "name": "stdout",
     "output_type": "stream",
     "text": [
      "64917805 27821933\n"
     ]
    }
   ],
   "source": [
    "print(train.size,validation.size)"
   ]
  },
  {
   "cell_type": "code",
   "execution_count": 15,
   "metadata": {},
   "outputs": [
    {
     "data": {
      "text/plain": [
       "0.14325129745657858"
      ]
     },
     "execution_count": 15,
     "metadata": {},
     "output_type": "execute_result"
    }
   ],
   "source": [
    "validation[validation.is_attributed==1].shape[0]/validation.shape[0]"
   ]
  },
  {
   "cell_type": "code",
   "execution_count": 16,
   "metadata": {},
   "outputs": [
    {
     "data": {
      "text/plain": [
       "0.14268821935676967"
      ]
     },
     "execution_count": 16,
     "metadata": {},
     "output_type": "execute_result"
    }
   ],
   "source": [
    "train[train.is_attributed==1].shape[0]/train.shape[0]"
   ]
  },
  {
   "cell_type": "code",
   "execution_count": 17,
   "metadata": {},
   "outputs": [],
   "source": [
    "df1 = train[train.is_attributed==1].copy()"
   ]
  },
  {
   "cell_type": "code",
   "execution_count": 18,
   "metadata": {},
   "outputs": [],
   "source": [
    "frames = [train,df1]\n",
    "train = pd.concat(frames)"
   ]
  },
  {
   "cell_type": "code",
   "execution_count": 19,
   "metadata": {},
   "outputs": [
    {
     "data": {
      "text/plain": [
       "0.24974129765176065"
      ]
     },
     "execution_count": 19,
     "metadata": {},
     "output_type": "execute_result"
    }
   ],
   "source": [
    "train[train.is_attributed==1].shape[0]/train.shape[0]"
   ]
  },
  {
   "cell_type": "code",
   "execution_count": 20,
   "metadata": {},
   "outputs": [],
   "source": [
    "train =train.sample(frac=1.0)"
   ]
  },
  {
   "cell_type": "code",
   "execution_count": 21,
   "metadata": {},
   "outputs": [],
   "source": [
    "del fit_data"
   ]
  },
  {
   "cell_type": "markdown",
   "metadata": {},
   "source": [
    "#### categorical features"
   ]
  },
  {
   "cell_type": "code",
   "execution_count": 22,
   "metadata": {},
   "outputs": [],
   "source": [
    "train_cat = pad_seq(train.token_vec)\n",
    "validation_cat = pad_seq(validation.token_vec)"
   ]
  },
  {
   "cell_type": "code",
   "execution_count": 23,
   "metadata": {},
   "outputs": [
    {
     "data": {
      "text/plain": [
       "Index(['ip', 'app', 'device', 'os', 'channel', 'hour', 'min', 'day',\n",
       "       'app_count', 'device_count', 'os_count', 'channel_count', 'click_count',\n",
       "       'apps', 'devices', 'oss', 'channels', 'adoc', 'app_count_min',\n",
       "       'device_count_min', 'os_count_min', 'channel_count_min',\n",
       "       'click_count_min', 'adoc_min', 'click_count_cumsum',\n",
       "       'click_count_cumsum_min', 'is_attributed', 'cat', 'token_vec'],\n",
       "      dtype='object')"
      ]
     },
     "execution_count": 23,
     "metadata": {},
     "output_type": "execute_result"
    }
   ],
   "source": [
    "train.columns"
   ]
  },
  {
   "cell_type": "markdown",
   "metadata": {},
   "source": [
    "#### labels"
   ]
  },
  {
   "cell_type": "code",
   "execution_count": 24,
   "metadata": {},
   "outputs": [],
   "source": [
    "label_train = train.is_attributed.values\n",
    "label_valid = validation.is_attributed.values"
   ]
  },
  {
   "cell_type": "markdown",
   "metadata": {},
   "source": [
    "#### numeric features"
   ]
  },
  {
   "cell_type": "code",
   "execution_count": 25,
   "metadata": {},
   "outputs": [],
   "source": [
    "train_feat = train[['ip','app_count','device_count','os_count','channel_count','click_count','apps',\n",
    "                 'devices','oss','channels','adoc','app_count_min','device_count_min','os_count_min',\n",
    "                  'channel_count_min','click_count_min','adoc_min','click_count_cumsum','click_count_cumsum_min'\n",
    "                 ]].values\n",
    "validation_feat =validation[['ip','app_count','device_count','os_count','channel_count','click_count','apps',\n",
    "                 'devices','oss','channels','adoc','app_count_min','device_count_min','os_count_min',\n",
    "                  'channel_count_min','click_count_min','adoc_min','click_count_cumsum','click_count_cumsum_min'\n",
    "                 ]].values"
   ]
  },
  {
   "cell_type": "code",
   "execution_count": 26,
   "metadata": {},
   "outputs": [],
   "source": [
    "del train\n",
    "del validation"
   ]
  },
  {
   "cell_type": "code",
   "execution_count": 27,
   "metadata": {},
   "outputs": [
    {
     "name": "stdout",
     "output_type": "stream",
     "text": [
      "(2557959, 19) (959377, 19)\n"
     ]
    }
   ],
   "source": [
    "print(train_feat.shape,validation_feat.shape)"
   ]
  },
  {
   "cell_type": "code",
   "execution_count": 28,
   "metadata": {},
   "outputs": [
    {
     "name": "stdout",
     "output_type": "stream",
     "text": [
      "(2557959, 4) (959377, 4)\n"
     ]
    }
   ],
   "source": [
    "print(train_cat.shape,validation_cat.shape)"
   ]
  },
  {
   "cell_type": "markdown",
   "metadata": {},
   "source": [
    "#### nn design"
   ]
  },
  {
   "cell_type": "code",
   "execution_count": 29,
   "metadata": {},
   "outputs": [],
   "source": [
    "input_cat = Input(shape = (max_text_length,), name = 'input_cat')\n",
    "# cat ------\n",
    "cat = Embedding(n_unique_words,4)(input_cat)\n",
    "cat = SpatialDropout1D(0.1)(cat)\n",
    "cat = Conv1D(16, 2, activation='relu')(cat)\n",
    "#cat = Conv1D(128, 3, activation='relu')(cat)\n",
    "#cat = Conv1D(256, 3, activation='relu')(cat)\n",
    "#cat = Conv1D(512, 2, activation='relu')(cat)\n",
    "cat = GlobalMaxPooling1D()(cat)\n",
    "#output_cat = Dense(2,activation='sigmoid',name='output_cat')(cat)\n",
    "# num --------------\n",
    "input_num = Input(shape = (19,),name='input_num')\n",
    "num = BatchNormalization()(input_num)\n",
    "num = Dense(64, activation='relu')(num)\n",
    "#num = BatchNormalization()(num)\n",
    "#num = Dense(128, activation='relu')(num)\n",
    "#num = Dense(256, activation='relu')(num)\n",
    "num = Dropout(0.1)(num)\n",
    "#output_num = Dense(2,activation='sigmoid',name='output_num')(num)\n",
    "# comb ------------\n",
    "x = keras.layers.concatenate([cat, num])\n",
    "x = BatchNormalization()(x)\n",
    "x = Dense(64, activation='relu')(x)\n",
    "x = Dense(128, activation='relu')(x)\n",
    "x = BatchNormalization()(x)\n",
    "#x = Dense(256, activation='relu')(x)\n",
    "#x = Dense(512, activation='relu')(x)\n",
    "#x = Dense(1024, activation='relu')(x)\n",
    "x = Dropout(0.2)(x)\n",
    "output_main = Dense(1,activation='sigmoid',name='output_main')(x)"
   ]
  },
  {
   "cell_type": "code",
   "execution_count": 30,
   "metadata": {},
   "outputs": [
    {
     "name": "stdout",
     "output_type": "stream",
     "text": [
      "__________________________________________________________________________________________________\n",
      "Layer (type)                    Output Shape         Param #     Connected to                     \n",
      "==================================================================================================\n",
      "input_cat (InputLayer)          (None, 4)            0                                            \n",
      "__________________________________________________________________________________________________\n",
      "embedding_1 (Embedding)         (None, 4, 4)         40000       input_cat[0][0]                  \n",
      "__________________________________________________________________________________________________\n",
      "input_num (InputLayer)          (None, 19)           0                                            \n",
      "__________________________________________________________________________________________________\n",
      "spatial_dropout1d_1 (SpatialDro (None, 4, 4)         0           embedding_1[0][0]                \n",
      "__________________________________________________________________________________________________\n",
      "batch_normalization_1 (BatchNor (None, 19)           76          input_num[0][0]                  \n",
      "__________________________________________________________________________________________________\n",
      "conv1d_1 (Conv1D)               (None, 3, 16)        144         spatial_dropout1d_1[0][0]        \n",
      "__________________________________________________________________________________________________\n",
      "dense_1 (Dense)                 (None, 64)           1280        batch_normalization_1[0][0]      \n",
      "__________________________________________________________________________________________________\n",
      "global_max_pooling1d_1 (GlobalM (None, 16)           0           conv1d_1[0][0]                   \n",
      "__________________________________________________________________________________________________\n",
      "dropout_1 (Dropout)             (None, 64)           0           dense_1[0][0]                    \n",
      "__________________________________________________________________________________________________\n",
      "concatenate_1 (Concatenate)     (None, 80)           0           global_max_pooling1d_1[0][0]     \n",
      "                                                                 dropout_1[0][0]                  \n",
      "__________________________________________________________________________________________________\n",
      "batch_normalization_2 (BatchNor (None, 80)           320         concatenate_1[0][0]              \n",
      "__________________________________________________________________________________________________\n",
      "dense_2 (Dense)                 (None, 64)           5184        batch_normalization_2[0][0]      \n",
      "__________________________________________________________________________________________________\n",
      "dense_3 (Dense)                 (None, 128)          8320        dense_2[0][0]                    \n",
      "__________________________________________________________________________________________________\n",
      "batch_normalization_3 (BatchNor (None, 128)          512         dense_3[0][0]                    \n",
      "__________________________________________________________________________________________________\n",
      "dropout_2 (Dropout)             (None, 128)          0           batch_normalization_3[0][0]      \n",
      "__________________________________________________________________________________________________\n",
      "output_main (Dense)             (None, 1)            129         dropout_2[0][0]                  \n",
      "==================================================================================================\n",
      "Total params: 55,965\n",
      "Trainable params: 55,511\n",
      "Non-trainable params: 454\n",
      "__________________________________________________________________________________________________\n"
     ]
    }
   ],
   "source": [
    "model = Model(inputs=[input_cat, input_num], outputs=[output_main])\n",
    "model.summary()"
   ]
  },
  {
   "cell_type": "code",
   "execution_count": 31,
   "metadata": {},
   "outputs": [],
   "source": [
    "model.compile(#loss='categorical_crossentropy',\n",
    "               loss = 'binary_crossentropy',\n",
    "               #optimizer='RMSprop',\n",
    "               optimizer='adam',\n",
    "              #optimizer = sgd,\n",
    "              metrics=['accuracy'])"
   ]
  },
  {
   "cell_type": "code",
   "execution_count": 32,
   "metadata": {},
   "outputs": [
    {
     "data": {
      "text/plain": [
       "'model_output/parallel/t50/'"
      ]
     },
     "execution_count": 32,
     "metadata": {},
     "output_type": "execute_result"
    }
   ],
   "source": [
    "output_dir"
   ]
  },
  {
   "cell_type": "code",
   "execution_count": 33,
   "metadata": {},
   "outputs": [],
   "source": [
    "earlystop = EarlyStopping(patience=10)\n",
    "modelsave = ModelCheckpoint(\n",
    "    filepath=output_dir+\"best_model.hdf5\", save_best_only=True, verbose=1)\n",
    "if not os.path.exists(output_dir):\n",
    "    os.makedirs(output_dir)"
   ]
  },
  {
   "cell_type": "code",
   "execution_count": 34,
   "metadata": {
    "scrolled": true
   },
   "outputs": [
    {
     "name": "stdout",
     "output_type": "stream",
     "text": [
      "Train on 2046367 samples, validate on 511592 samples\n",
      "Epoch 1/100\n",
      "2046367/2046367 [==============================] - 105s 51us/step - loss: 0.2771 - acc: 0.9073 - val_loss: 0.1944 - val_acc: 0.9458\n",
      "\n",
      "Epoch 00001: val_loss improved from inf to 0.19445, saving model to model_output/parallel/t50/best_model.hdf5\n",
      "Epoch 2/100\n",
      "2046367/2046367 [==============================] - 100s 49us/step - loss: 0.1774 - acc: 0.9468 - val_loss: 0.1617 - val_acc: 0.9511\n",
      "\n",
      "Epoch 00002: val_loss improved from 0.19445 to 0.16165, saving model to model_output/parallel/t50/best_model.hdf5\n",
      "Epoch 3/100\n",
      "2046367/2046367 [==============================] - 100s 49us/step - loss: 0.1658 - acc: 0.9491 - val_loss: 0.1596 - val_acc: 0.9511\n",
      "\n",
      "Epoch 00003: val_loss improved from 0.16165 to 0.15958, saving model to model_output/parallel/t50/best_model.hdf5\n",
      "Epoch 4/100\n",
      "2046367/2046367 [==============================] - 100s 49us/step - loss: 0.1602 - acc: 0.9504 - val_loss: 0.1568 - val_acc: 0.9513\n",
      "\n",
      "Epoch 00004: val_loss improved from 0.15958 to 0.15684, saving model to model_output/parallel/t50/best_model.hdf5\n",
      "Epoch 5/100\n",
      "2046367/2046367 [==============================] - 100s 49us/step - loss: 0.1570 - acc: 0.9509 - val_loss: 0.1510 - val_acc: 0.9524\n",
      "\n",
      "Epoch 00005: val_loss improved from 0.15684 to 0.15096, saving model to model_output/parallel/t50/best_model.hdf5\n",
      "Epoch 6/100\n",
      "2046367/2046367 [==============================] - 100s 49us/step - loss: 0.1548 - acc: 0.9514 - val_loss: 0.1498 - val_acc: 0.9524\n",
      "\n",
      "Epoch 00006: val_loss improved from 0.15096 to 0.14984, saving model to model_output/parallel/t50/best_model.hdf5\n",
      "Epoch 7/100\n",
      "2046367/2046367 [==============================] - 101s 49us/step - loss: 0.1530 - acc: 0.9516 - val_loss: 0.1486 - val_acc: 0.9528\n",
      "\n",
      "Epoch 00007: val_loss improved from 0.14984 to 0.14861, saving model to model_output/parallel/t50/best_model.hdf5\n",
      "Epoch 8/100\n",
      "2046367/2046367 [==============================] - 102s 50us/step - loss: 0.1519 - acc: 0.9519 - val_loss: 0.1483 - val_acc: 0.9528\n",
      "\n",
      "Epoch 00008: val_loss improved from 0.14861 to 0.14829, saving model to model_output/parallel/t50/best_model.hdf5\n",
      "Epoch 9/100\n",
      "2046367/2046367 [==============================] - 105s 51us/step - loss: 0.1508 - acc: 0.9521 - val_loss: 0.1473 - val_acc: 0.9531\n",
      "\n",
      "Epoch 00009: val_loss improved from 0.14829 to 0.14733, saving model to model_output/parallel/t50/best_model.hdf5\n",
      "Epoch 10/100\n",
      "2046367/2046367 [==============================] - 104s 51us/step - loss: 0.1502 - acc: 0.9522 - val_loss: 0.1477 - val_acc: 0.9528\n",
      "\n",
      "Epoch 00010: val_loss did not improve\n",
      "Epoch 11/100\n",
      "2046367/2046367 [==============================] - 103s 50us/step - loss: 0.1494 - acc: 0.9524 - val_loss: 0.1465 - val_acc: 0.9532\n",
      "\n",
      "Epoch 00011: val_loss improved from 0.14733 to 0.14651, saving model to model_output/parallel/t50/best_model.hdf5\n",
      "Epoch 12/100\n",
      "2046367/2046367 [==============================] - 101s 49us/step - loss: 0.1490 - acc: 0.9524 - val_loss: 0.1475 - val_acc: 0.9529\n",
      "\n",
      "Epoch 00012: val_loss did not improve\n",
      "Epoch 13/100\n",
      "2046367/2046367 [==============================] - 101s 49us/step - loss: 0.1486 - acc: 0.9525 - val_loss: 0.1472 - val_acc: 0.9530\n",
      "\n",
      "Epoch 00013: val_loss did not improve\n",
      "Epoch 14/100\n",
      "2046367/2046367 [==============================] - 101s 49us/step - loss: 0.1480 - acc: 0.9527 - val_loss: 0.1476 - val_acc: 0.9527\n",
      "\n",
      "Epoch 00014: val_loss did not improve\n",
      "Epoch 15/100\n",
      "2046367/2046367 [==============================] - 100s 49us/step - loss: 0.1477 - acc: 0.9527 - val_loss: 0.1455 - val_acc: 0.9534\n",
      "\n",
      "Epoch 00015: val_loss improved from 0.14651 to 0.14554, saving model to model_output/parallel/t50/best_model.hdf5\n",
      "Epoch 16/100\n",
      "2046367/2046367 [==============================] - 104s 51us/step - loss: 0.1474 - acc: 0.9527 - val_loss: 0.1455 - val_acc: 0.9534\n",
      "\n",
      "Epoch 00016: val_loss improved from 0.14554 to 0.14546, saving model to model_output/parallel/t50/best_model.hdf5\n",
      "Epoch 17/100\n",
      "2046367/2046367 [==============================] - 103s 51us/step - loss: 0.1472 - acc: 0.9529 - val_loss: 0.1456 - val_acc: 0.9532\n",
      "\n",
      "Epoch 00017: val_loss did not improve\n",
      "Epoch 18/100\n",
      "2046367/2046367 [==============================] - 101s 49us/step - loss: 0.1470 - acc: 0.9529 - val_loss: 0.1451 - val_acc: 0.9535\n",
      "\n",
      "Epoch 00018: val_loss improved from 0.14546 to 0.14508, saving model to model_output/parallel/t50/best_model.hdf5\n",
      "Epoch 19/100\n",
      "2046367/2046367 [==============================] - 101s 49us/step - loss: 0.1466 - acc: 0.9530 - val_loss: 0.1454 - val_acc: 0.9533\n",
      "\n",
      "Epoch 00019: val_loss did not improve\n",
      "Epoch 20/100\n",
      "2046367/2046367 [==============================] - 101s 49us/step - loss: 0.1465 - acc: 0.9529 - val_loss: 0.1449 - val_acc: 0.9534\n",
      "\n",
      "Epoch 00020: val_loss improved from 0.14508 to 0.14488, saving model to model_output/parallel/t50/best_model.hdf5\n",
      "Epoch 21/100\n",
      "2046367/2046367 [==============================] - 101s 49us/step - loss: 0.1464 - acc: 0.9530 - val_loss: 0.1454 - val_acc: 0.9533\n",
      "\n",
      "Epoch 00021: val_loss did not improve\n",
      "Epoch 22/100\n",
      "2046367/2046367 [==============================] - 107s 52us/step - loss: 0.1460 - acc: 0.9531 - val_loss: 0.1450 - val_acc: 0.9532\n",
      "\n",
      "Epoch 00022: val_loss did not improve\n",
      "Epoch 23/100\n",
      "2046367/2046367 [==============================] - 106s 52us/step - loss: 0.1459 - acc: 0.9531 - val_loss: 0.1453 - val_acc: 0.9532\n",
      "\n",
      "Epoch 00023: val_loss did not improve\n",
      "Epoch 24/100\n",
      "2046367/2046367 [==============================] - 102s 50us/step - loss: 0.1458 - acc: 0.9531 - val_loss: 0.1450 - val_acc: 0.9533\n",
      "\n",
      "Epoch 00024: val_loss did not improve\n",
      "Epoch 25/100\n",
      "2046367/2046367 [==============================] - 103s 50us/step - loss: 0.1456 - acc: 0.9531 - val_loss: 0.1443 - val_acc: 0.9537\n",
      "\n",
      "Epoch 00025: val_loss improved from 0.14488 to 0.14434, saving model to model_output/parallel/t50/best_model.hdf5\n",
      "Epoch 26/100\n",
      "2046367/2046367 [==============================] - 103s 50us/step - loss: 0.1455 - acc: 0.9532 - val_loss: 0.1446 - val_acc: 0.9535\n",
      "\n",
      "Epoch 00026: val_loss did not improve\n",
      "Epoch 27/100\n",
      "2046367/2046367 [==============================] - 103s 50us/step - loss: 0.1453 - acc: 0.9532 - val_loss: 0.1450 - val_acc: 0.9535\n",
      "\n",
      "Epoch 00027: val_loss did not improve\n",
      "Epoch 28/100\n",
      "2046367/2046367 [==============================] - 102s 50us/step - loss: 0.1452 - acc: 0.9532 - val_loss: 0.1443 - val_acc: 0.9536\n",
      "\n",
      "Epoch 00028: val_loss improved from 0.14434 to 0.14432, saving model to model_output/parallel/t50/best_model.hdf5\n",
      "Epoch 29/100\n",
      "2046367/2046367 [==============================] - 106s 52us/step - loss: 0.1451 - acc: 0.9533 - val_loss: 0.1443 - val_acc: 0.9535\n",
      "\n",
      "Epoch 00029: val_loss did not improve\n",
      "Epoch 30/100\n",
      "2046367/2046367 [==============================] - 112s 55us/step - loss: 0.1449 - acc: 0.9533 - val_loss: 0.1442 - val_acc: 0.9536\n",
      "\n",
      "Epoch 00030: val_loss improved from 0.14432 to 0.14419, saving model to model_output/parallel/t50/best_model.hdf5\n",
      "Epoch 31/100\n",
      "2046367/2046367 [==============================] - 111s 54us/step - loss: 0.1449 - acc: 0.9533 - val_loss: 0.1440 - val_acc: 0.9535\n",
      "\n",
      "Epoch 00031: val_loss improved from 0.14419 to 0.14405, saving model to model_output/parallel/t50/best_model.hdf5\n",
      "Epoch 32/100\n",
      "2046367/2046367 [==============================] - 121s 59us/step - loss: 0.1447 - acc: 0.9533 - val_loss: 0.1440 - val_acc: 0.9536\n",
      "\n",
      "Epoch 00032: val_loss improved from 0.14405 to 0.14395, saving model to model_output/parallel/t50/best_model.hdf5\n",
      "Epoch 33/100\n",
      "2046367/2046367 [==============================] - 128s 63us/step - loss: 0.1447 - acc: 0.9534 - val_loss: 0.1441 - val_acc: 0.9537\n",
      "\n",
      "Epoch 00033: val_loss did not improve\n",
      "Epoch 34/100\n",
      "2046367/2046367 [==============================] - 117s 57us/step - loss: 0.1445 - acc: 0.9534 - val_loss: 0.1438 - val_acc: 0.9538\n",
      "\n",
      "Epoch 00034: val_loss improved from 0.14395 to 0.14375, saving model to model_output/parallel/t50/best_model.hdf5\n",
      "Epoch 35/100\n",
      "2046367/2046367 [==============================] - 116s 56us/step - loss: 0.1444 - acc: 0.9534 - val_loss: 0.1437 - val_acc: 0.9537\n",
      "\n",
      "Epoch 00035: val_loss improved from 0.14375 to 0.14367, saving model to model_output/parallel/t50/best_model.hdf5\n",
      "Epoch 36/100\n",
      "2046367/2046367 [==============================] - 114s 56us/step - loss: 0.1444 - acc: 0.9535 - val_loss: 0.1437 - val_acc: 0.9537\n"
     ]
    },
    {
     "name": "stdout",
     "output_type": "stream",
     "text": [
      "\n",
      "Epoch 00036: val_loss improved from 0.14367 to 0.14367, saving model to model_output/parallel/t50/best_model.hdf5\n",
      "Epoch 37/100\n",
      "2046367/2046367 [==============================] - 117s 57us/step - loss: 0.1442 - acc: 0.9534 - val_loss: 0.1437 - val_acc: 0.9535\n",
      "\n",
      "Epoch 00037: val_loss did not improve\n",
      "Epoch 38/100\n",
      "2046367/2046367 [==============================] - 105s 52us/step - loss: 0.1441 - acc: 0.9535 - val_loss: 0.1446 - val_acc: 0.9534\n",
      "\n",
      "Epoch 00038: val_loss did not improve\n",
      "Epoch 39/100\n",
      "2046367/2046367 [==============================] - 117s 57us/step - loss: 0.1441 - acc: 0.9535 - val_loss: 0.1445 - val_acc: 0.9535\n",
      "\n",
      "Epoch 00039: val_loss did not improve\n",
      "Epoch 40/100\n",
      "2046367/2046367 [==============================] - 106s 52us/step - loss: 0.1440 - acc: 0.9535 - val_loss: 0.1441 - val_acc: 0.9536\n",
      "\n",
      "Epoch 00040: val_loss did not improve\n",
      "Epoch 41/100\n",
      "2046367/2046367 [==============================] - 119s 58us/step - loss: 0.1439 - acc: 0.9535 - val_loss: 0.1435 - val_acc: 0.9536\n",
      "\n",
      "Epoch 00041: val_loss improved from 0.14367 to 0.14348, saving model to model_output/parallel/t50/best_model.hdf5\n",
      "Epoch 42/100\n",
      "2046367/2046367 [==============================] - 121s 59us/step - loss: 0.1438 - acc: 0.9536 - val_loss: 0.1443 - val_acc: 0.9534\n",
      "\n",
      "Epoch 00042: val_loss did not improve\n",
      "Epoch 43/100\n",
      "2046367/2046367 [==============================] - 107s 53us/step - loss: 0.1437 - acc: 0.9536 - val_loss: 0.1431 - val_acc: 0.9540\n",
      "\n",
      "Epoch 00043: val_loss improved from 0.14348 to 0.14305, saving model to model_output/parallel/t50/best_model.hdf5\n",
      "Epoch 44/100\n",
      "2046367/2046367 [==============================] - 103s 50us/step - loss: 0.1434 - acc: 0.9535 - val_loss: 0.1435 - val_acc: 0.9538\n",
      "\n",
      "Epoch 00044: val_loss did not improve\n",
      "Epoch 45/100\n",
      "2046367/2046367 [==============================] - 110s 54us/step - loss: 0.1434 - acc: 0.9536 - val_loss: 0.1434 - val_acc: 0.9537\n",
      "\n",
      "Epoch 00045: val_loss did not improve\n",
      "Epoch 46/100\n",
      "2046367/2046367 [==============================] - 115s 56us/step - loss: 0.1431 - acc: 0.9537 - val_loss: 0.1429 - val_acc: 0.9538\n",
      "\n",
      "Epoch 00046: val_loss improved from 0.14305 to 0.14289, saving model to model_output/parallel/t50/best_model.hdf5\n",
      "Epoch 47/100\n",
      "2046367/2046367 [==============================] - 141s 69us/step - loss: 0.1429 - acc: 0.9538 - val_loss: 0.1423 - val_acc: 0.9539\n",
      "\n",
      "Epoch 00047: val_loss improved from 0.14289 to 0.14234, saving model to model_output/parallel/t50/best_model.hdf5\n",
      "Epoch 48/100\n",
      "2046367/2046367 [==============================] - 142s 69us/step - loss: 0.1426 - acc: 0.9538 - val_loss: 0.1420 - val_acc: 0.9540\n",
      "\n",
      "Epoch 00048: val_loss improved from 0.14234 to 0.14201, saving model to model_output/parallel/t50/best_model.hdf5\n",
      "Epoch 49/100\n",
      "2046367/2046367 [==============================] - 142s 69us/step - loss: 0.1422 - acc: 0.9539 - val_loss: 0.1418 - val_acc: 0.9543\n",
      "\n",
      "Epoch 00049: val_loss improved from 0.14201 to 0.14183, saving model to model_output/parallel/t50/best_model.hdf5\n",
      "Epoch 50/100\n",
      "2046367/2046367 [==============================] - 152s 74us/step - loss: 0.1423 - acc: 0.9540 - val_loss: 0.1422 - val_acc: 0.9543\n",
      "\n",
      "Epoch 00050: val_loss did not improve\n",
      "Epoch 51/100\n",
      "2046367/2046367 [==============================] - 147s 72us/step - loss: 0.1420 - acc: 0.9540 - val_loss: 0.1419 - val_acc: 0.9541\n",
      "\n",
      "Epoch 00051: val_loss did not improve\n",
      "Epoch 52/100\n",
      "2046367/2046367 [==============================] - 142s 69us/step - loss: 0.1417 - acc: 0.9540 - val_loss: 0.1418 - val_acc: 0.9542\n",
      "\n",
      "Epoch 00052: val_loss improved from 0.14183 to 0.14176, saving model to model_output/parallel/t50/best_model.hdf5\n",
      "Epoch 53/100\n",
      "2046367/2046367 [==============================] - 140s 69us/step - loss: 0.1417 - acc: 0.9539 - val_loss: 0.1424 - val_acc: 0.9539\n",
      "\n",
      "Epoch 00053: val_loss did not improve\n",
      "Epoch 54/100\n",
      "2046367/2046367 [==============================] - 124s 61us/step - loss: 0.1416 - acc: 0.9541 - val_loss: 0.1421 - val_acc: 0.9540\n",
      "\n",
      "Epoch 00054: val_loss did not improve\n",
      "Epoch 55/100\n",
      "2046367/2046367 [==============================] - 111s 54us/step - loss: 0.1415 - acc: 0.9540 - val_loss: 0.1413 - val_acc: 0.9542\n",
      "\n",
      "Epoch 00055: val_loss improved from 0.14176 to 0.14133, saving model to model_output/parallel/t50/best_model.hdf5\n",
      "Epoch 56/100\n",
      "2046367/2046367 [==============================] - 140s 68us/step - loss: 0.1415 - acc: 0.9540 - val_loss: 0.1418 - val_acc: 0.9540\n",
      "\n",
      "Epoch 00056: val_loss did not improve\n",
      "Epoch 57/100\n",
      "2046367/2046367 [==============================] - 135s 66us/step - loss: 0.1414 - acc: 0.9541 - val_loss: 0.1414 - val_acc: 0.9541\n",
      "\n",
      "Epoch 00057: val_loss did not improve\n",
      "Epoch 58/100\n",
      "2046367/2046367 [==============================] - 131s 64us/step - loss: 0.1414 - acc: 0.9541 - val_loss: 0.1410 - val_acc: 0.9543\n",
      "\n",
      "Epoch 00058: val_loss improved from 0.14133 to 0.14098, saving model to model_output/parallel/t50/best_model.hdf5\n",
      "Epoch 59/100\n",
      "2046367/2046367 [==============================] - 117s 57us/step - loss: 0.1414 - acc: 0.9541 - val_loss: 0.1419 - val_acc: 0.9539\n",
      "\n",
      "Epoch 00059: val_loss did not improve\n",
      "Epoch 60/100\n",
      "2046367/2046367 [==============================] - 111s 54us/step - loss: 0.1412 - acc: 0.9541 - val_loss: 0.1417 - val_acc: 0.9541\n",
      "\n",
      "Epoch 00060: val_loss did not improve\n",
      "Epoch 61/100\n",
      "2046367/2046367 [==============================] - 104s 51us/step - loss: 0.1412 - acc: 0.9542 - val_loss: 0.1411 - val_acc: 0.9543\n",
      "\n",
      "Epoch 00061: val_loss did not improve\n",
      "Epoch 62/100\n",
      "2046367/2046367 [==============================] - 101s 49us/step - loss: 0.1412 - acc: 0.9541 - val_loss: 0.1410 - val_acc: 0.9543\n",
      "\n",
      "Epoch 00062: val_loss did not improve\n",
      "Epoch 63/100\n",
      "2046367/2046367 [==============================] - 100s 49us/step - loss: 0.1411 - acc: 0.9542 - val_loss: 0.1412 - val_acc: 0.9542\n",
      "\n",
      "Epoch 00063: val_loss did not improve\n",
      "Epoch 64/100\n",
      "2046367/2046367 [==============================] - 116s 57us/step - loss: 0.1411 - acc: 0.9542 - val_loss: 0.1408 - val_acc: 0.9543\n",
      "\n",
      "Epoch 00064: val_loss improved from 0.14098 to 0.14079, saving model to model_output/parallel/t50/best_model.hdf5\n",
      "Epoch 65/100\n",
      "2046367/2046367 [==============================] - 104s 51us/step - loss: 0.1410 - acc: 0.9542 - val_loss: 0.1409 - val_acc: 0.9544\n",
      "\n",
      "Epoch 00065: val_loss did not improve\n",
      "Epoch 66/100\n",
      "2046367/2046367 [==============================] - 101s 49us/step - loss: 0.1409 - acc: 0.9543 - val_loss: 0.1413 - val_acc: 0.9542\n",
      "\n",
      "Epoch 00066: val_loss did not improve\n",
      "Epoch 67/100\n",
      "2046367/2046367 [==============================] - 102s 50us/step - loss: 0.1408 - acc: 0.9543 - val_loss: 0.1408 - val_acc: 0.9545\n",
      "\n",
      "Epoch 00067: val_loss improved from 0.14079 to 0.14079, saving model to model_output/parallel/t50/best_model.hdf5\n",
      "Epoch 68/100\n",
      "2046367/2046367 [==============================] - 100s 49us/step - loss: 0.1408 - acc: 0.9542 - val_loss: 0.1405 - val_acc: 0.9545\n",
      "\n",
      "Epoch 00068: val_loss improved from 0.14079 to 0.14047, saving model to model_output/parallel/t50/best_model.hdf5\n",
      "Epoch 69/100\n",
      "2046367/2046367 [==============================] - 101s 49us/step - loss: 0.1408 - acc: 0.9542 - val_loss: 0.1424 - val_acc: 0.9539\n",
      "\n",
      "Epoch 00069: val_loss did not improve\n",
      "Epoch 70/100\n",
      "2046367/2046367 [==============================] - 101s 49us/step - loss: 0.1407 - acc: 0.9543 - val_loss: 0.1406 - val_acc: 0.9544\n",
      "\n",
      "Epoch 00070: val_loss did not improve\n",
      "Epoch 71/100\n",
      "2046367/2046367 [==============================] - 108s 53us/step - loss: 0.1406 - acc: 0.9543 - val_loss: 0.1409 - val_acc: 0.9543\n",
      "\n",
      "Epoch 00071: val_loss did not improve\n",
      "Epoch 72/100\n",
      "2046367/2046367 [==============================] - 100s 49us/step - loss: 0.1406 - acc: 0.9543 - val_loss: 0.1415 - val_acc: 0.9540\n",
      "\n",
      "Epoch 00072: val_loss did not improve\n",
      "Epoch 73/100\n",
      "2046367/2046367 [==============================] - 101s 49us/step - loss: 0.1404 - acc: 0.9543 - val_loss: 0.1408 - val_acc: 0.9544\n",
      "\n",
      "Epoch 00073: val_loss did not improve\n",
      "Epoch 74/100\n",
      "2046367/2046367 [==============================] - 113s 55us/step - loss: 0.1405 - acc: 0.9542 - val_loss: 0.1418 - val_acc: 0.9539\n",
      "\n",
      "Epoch 00074: val_loss did not improve\n",
      "Epoch 75/100\n",
      "2046367/2046367 [==============================] - 101s 49us/step - loss: 0.1405 - acc: 0.9543 - val_loss: 0.1412 - val_acc: 0.9542\n",
      "\n",
      "Epoch 00075: val_loss did not improve\n",
      "Epoch 76/100\n"
     ]
    },
    {
     "name": "stdout",
     "output_type": "stream",
     "text": [
      "2046367/2046367 [==============================] - 105s 51us/step - loss: 0.1404 - acc: 0.9543 - val_loss: 0.1403 - val_acc: 0.9546\n",
      "\n",
      "Epoch 00076: val_loss improved from 0.14047 to 0.14032, saving model to model_output/parallel/t50/best_model.hdf5\n",
      "Epoch 77/100\n",
      "2046367/2046367 [==============================] - 100s 49us/step - loss: 0.1404 - acc: 0.9543 - val_loss: 0.1405 - val_acc: 0.9546\n",
      "\n",
      "Epoch 00077: val_loss did not improve\n",
      "Epoch 78/100\n",
      "2046367/2046367 [==============================] - 100s 49us/step - loss: 0.1404 - acc: 0.9543 - val_loss: 0.1404 - val_acc: 0.9546\n",
      "\n",
      "Epoch 00078: val_loss did not improve\n",
      "Epoch 79/100\n",
      "2046367/2046367 [==============================] - 102s 50us/step - loss: 0.1402 - acc: 0.9544 - val_loss: 0.1409 - val_acc: 0.9544\n",
      "\n",
      "Epoch 00079: val_loss did not improve\n",
      "Epoch 80/100\n",
      "2046367/2046367 [==============================] - 101s 49us/step - loss: 0.1403 - acc: 0.9544 - val_loss: 0.1405 - val_acc: 0.9544\n",
      "\n",
      "Epoch 00080: val_loss did not improve\n",
      "Epoch 81/100\n",
      "2046367/2046367 [==============================] - 100s 49us/step - loss: 0.1403 - acc: 0.9543 - val_loss: 0.1409 - val_acc: 0.9542\n",
      "\n",
      "Epoch 00081: val_loss did not improve\n",
      "Epoch 82/100\n",
      "2046367/2046367 [==============================] - 102s 50us/step - loss: 0.1402 - acc: 0.9543 - val_loss: 0.1411 - val_acc: 0.9542\n",
      "\n",
      "Epoch 00082: val_loss did not improve\n",
      "Epoch 83/100\n",
      "2046367/2046367 [==============================] - 99s 49us/step - loss: 0.1402 - acc: 0.9544 - val_loss: 0.1411 - val_acc: 0.9542\n",
      "\n",
      "Epoch 00083: val_loss did not improve\n",
      "Epoch 84/100\n",
      "2046367/2046367 [==============================] - 102s 50us/step - loss: 0.1403 - acc: 0.9543 - val_loss: 0.1401 - val_acc: 0.9546\n",
      "\n",
      "Epoch 00084: val_loss improved from 0.14032 to 0.14012, saving model to model_output/parallel/t50/best_model.hdf5\n",
      "Epoch 85/100\n",
      "2046367/2046367 [==============================] - 102s 50us/step - loss: 0.1400 - acc: 0.9543 - val_loss: 0.1406 - val_acc: 0.9545\n",
      "\n",
      "Epoch 00085: val_loss did not improve\n",
      "Epoch 86/100\n",
      "2046367/2046367 [==============================] - 100s 49us/step - loss: 0.1402 - acc: 0.9544 - val_loss: 0.1402 - val_acc: 0.9547\n",
      "\n",
      "Epoch 00086: val_loss did not improve\n",
      "Epoch 87/100\n",
      "2046367/2046367 [==============================] - 101s 49us/step - loss: 0.1400 - acc: 0.9544 - val_loss: 0.1406 - val_acc: 0.9544\n",
      "\n",
      "Epoch 00087: val_loss did not improve\n",
      "Epoch 88/100\n",
      "2046367/2046367 [==============================] - 101s 49us/step - loss: 0.1399 - acc: 0.9544 - val_loss: 0.1404 - val_acc: 0.9545\n",
      "\n",
      "Epoch 00088: val_loss did not improve\n",
      "Epoch 89/100\n",
      "2046367/2046367 [==============================] - 99s 49us/step - loss: 0.1399 - acc: 0.9544 - val_loss: 0.1401 - val_acc: 0.9547\n",
      "\n",
      "Epoch 00089: val_loss improved from 0.14012 to 0.14011, saving model to model_output/parallel/t50/best_model.hdf5\n",
      "Epoch 90/100\n",
      "2046367/2046367 [==============================] - 100s 49us/step - loss: 0.1400 - acc: 0.9544 - val_loss: 0.1415 - val_acc: 0.9541\n",
      "\n",
      "Epoch 00090: val_loss did not improve\n",
      "Epoch 91/100\n",
      "2046367/2046367 [==============================] - 100s 49us/step - loss: 0.1399 - acc: 0.9545 - val_loss: 0.1404 - val_acc: 0.9545\n",
      "\n",
      "Epoch 00091: val_loss did not improve\n",
      "Epoch 92/100\n",
      "2046367/2046367 [==============================] - 99s 48us/step - loss: 0.1399 - acc: 0.9544 - val_loss: 0.1401 - val_acc: 0.9545\n",
      "\n",
      "Epoch 00092: val_loss did not improve\n",
      "Epoch 93/100\n",
      "2046367/2046367 [==============================] - 101s 49us/step - loss: 0.1399 - acc: 0.9544 - val_loss: 0.1409 - val_acc: 0.9543\n",
      "\n",
      "Epoch 00093: val_loss did not improve\n",
      "Epoch 94/100\n",
      "2046367/2046367 [==============================] - 99s 48us/step - loss: 0.1399 - acc: 0.9544 - val_loss: 0.1403 - val_acc: 0.9546\n",
      "\n",
      "Epoch 00094: val_loss did not improve\n",
      "Epoch 95/100\n",
      "2046367/2046367 [==============================] - 100s 49us/step - loss: 0.1397 - acc: 0.9544 - val_loss: 0.1402 - val_acc: 0.9545\n",
      "\n",
      "Epoch 00095: val_loss did not improve\n",
      "Epoch 96/100\n",
      "2046367/2046367 [==============================] - 99s 49us/step - loss: 0.1398 - acc: 0.9544 - val_loss: 0.1399 - val_acc: 0.9547\n",
      "\n",
      "Epoch 00096: val_loss improved from 0.14011 to 0.13994, saving model to model_output/parallel/t50/best_model.hdf5\n",
      "Epoch 97/100\n",
      "2046367/2046367 [==============================] - 99s 48us/step - loss: 0.1397 - acc: 0.9545 - val_loss: 0.1400 - val_acc: 0.9546\n",
      "\n",
      "Epoch 00097: val_loss did not improve\n",
      "Epoch 98/100\n",
      "2046367/2046367 [==============================] - 99s 49us/step - loss: 0.1398 - acc: 0.9544 - val_loss: 0.1406 - val_acc: 0.9544\n",
      "\n",
      "Epoch 00098: val_loss did not improve\n",
      "Epoch 99/100\n",
      "2046367/2046367 [==============================] - 100s 49us/step - loss: 0.1396 - acc: 0.9545 - val_loss: 0.1400 - val_acc: 0.9546\n",
      "\n",
      "Epoch 00099: val_loss did not improve\n",
      "Epoch 100/100\n",
      "2046367/2046367 [==============================] - 102s 50us/step - loss: 0.1395 - acc: 0.9545 - val_loss: 0.1400 - val_acc: 0.9546\n",
      "\n",
      "Epoch 00100: val_loss did not improve\n"
     ]
    }
   ],
   "source": [
    "history=model.fit({'input_cat':train_cat, 'input_num':train_feat},\n",
    "                  {'output_main':label_train},\n",
    "                  batch_size=4096*8,\n",
    "                  epochs=100,\n",
    "                  verbose=1,\n",
    "                  validation_split=0.2,\n",
    "                  callbacks=[earlystop, modelsave]\n",
    "                 )"
   ]
  },
  {
   "cell_type": "code",
   "execution_count": 45,
   "metadata": {},
   "outputs": [],
   "source": [
    "np.save(\"./train_cat\", train_cat,allow_pickle=True)\n",
    "np.save(\"./train_feat\", train_feat,allow_pickle=True)\n",
    "np.save(\"./validation_cat\", validation_cat,allow_pickle=True)\n",
    "np.save(\"./validation_feat\", validation_feat,allow_pickle=True)\n",
    "np.save(\"./label_train\", label_train,allow_pickle=True)\n",
    "np.save(\"./label_valid\", label_valid,allow_pickle=True)"
   ]
  },
  {
   "cell_type": "markdown",
   "metadata": {},
   "source": [
    "#### evaluate on validation set"
   ]
  },
  {
   "cell_type": "code",
   "execution_count": 35,
   "metadata": {},
   "outputs": [],
   "source": [
    "from keras.models import load_model\n",
    "model=load_model(output_dir+\"best_model.hdf5\")"
   ]
  },
  {
   "cell_type": "code",
   "execution_count": 36,
   "metadata": {},
   "outputs": [],
   "source": [
    "y_p = model.predict({'input_cat':validation_cat, 'input_num':validation_feat})"
   ]
  },
  {
   "cell_type": "code",
   "execution_count": 93,
   "metadata": {
    "collapsed": true
   },
   "outputs": [],
   "source": [
    "#y_p = np.argmax(y_p, axis=1)"
   ]
  },
  {
   "cell_type": "code",
   "execution_count": 37,
   "metadata": {},
   "outputs": [
    {
     "data": {
      "text/plain": [
       "'model_output/parallel/t50/'"
      ]
     },
     "execution_count": 37,
     "metadata": {},
     "output_type": "execute_result"
    }
   ],
   "source": [
    "output_dir"
   ]
  },
  {
   "cell_type": "code",
   "execution_count": 40,
   "metadata": {},
   "outputs": [],
   "source": [
    "y_true = label_valid"
   ]
  },
  {
   "cell_type": "code",
   "execution_count": 41,
   "metadata": {},
   "outputs": [],
   "source": [
    "from sklearn.metrics import roc_auc_score\n",
    "auc_train = roc_auc_score(y_true, y_p)"
   ]
  },
  {
   "cell_type": "code",
   "execution_count": 97,
   "metadata": {},
   "outputs": [
    {
     "data": {
      "text/plain": [
       "0.97274782732077569"
      ]
     },
     "execution_count": 97,
     "metadata": {},
     "output_type": "execute_result"
    }
   ],
   "source": [
    "auc_train"
   ]
  },
  {
   "cell_type": "code",
   "execution_count": 42,
   "metadata": {},
   "outputs": [
    {
     "data": {
      "text/plain": [
       "0.9749821339421685"
      ]
     },
     "execution_count": 42,
     "metadata": {},
     "output_type": "execute_result"
    }
   ],
   "source": [
    "auc_train # train4"
   ]
  },
  {
   "cell_type": "markdown",
   "metadata": {},
   "source": [
    "#### testing set "
   ]
  },
  {
   "cell_type": "code",
   "execution_count": null,
   "metadata": {},
   "outputs": [],
   "source": []
  },
  {
   "cell_type": "code",
   "execution_count": 100,
   "metadata": {},
   "outputs": [
    {
     "data": {
      "text/plain": [
       "0.0"
      ]
     },
     "execution_count": 100,
     "metadata": {},
     "output_type": "execute_result"
    }
   ],
   "source": [
    "100*np.argmax(y,axis=1).sum()/len(y)"
   ]
  },
  {
   "cell_type": "code",
   "execution_count": 101,
   "metadata": {},
   "outputs": [
    {
     "data": {
      "text/html": [
       "<div>\n",
       "<style scoped>\n",
       "    .dataframe tbody tr th:only-of-type {\n",
       "        vertical-align: middle;\n",
       "    }\n",
       "\n",
       "    .dataframe tbody tr th {\n",
       "        vertical-align: top;\n",
       "    }\n",
       "\n",
       "    .dataframe thead th {\n",
       "        text-align: right;\n",
       "    }\n",
       "</style>\n",
       "<table border=\"1\" class=\"dataframe\">\n",
       "  <thead>\n",
       "    <tr style=\"text-align: right;\">\n",
       "      <th></th>\n",
       "      <th>is_attributed</th>\n",
       "    </tr>\n",
       "  </thead>\n",
       "  <tbody>\n",
       "    <tr>\n",
       "      <th>0</th>\n",
       "      <td>0.013694</td>\n",
       "    </tr>\n",
       "    <tr>\n",
       "      <th>1</th>\n",
       "      <td>0.011774</td>\n",
       "    </tr>\n",
       "    <tr>\n",
       "      <th>2</th>\n",
       "      <td>0.004334</td>\n",
       "    </tr>\n",
       "    <tr>\n",
       "      <th>3</th>\n",
       "      <td>0.003711</td>\n",
       "    </tr>\n",
       "    <tr>\n",
       "      <th>4</th>\n",
       "      <td>0.003187</td>\n",
       "    </tr>\n",
       "  </tbody>\n",
       "</table>\n",
       "</div>"
      ],
      "text/plain": [
       "   is_attributed\n",
       "0       0.013694\n",
       "1       0.011774\n",
       "2       0.004334\n",
       "3       0.003711\n",
       "4       0.003187"
      ]
     },
     "execution_count": 101,
     "metadata": {},
     "output_type": "execute_result"
    }
   ],
   "source": [
    "#y_c = np.argmax(y, axis=1)\n",
    "y = pd.DataFrame(y)\n",
    "y.columns = ['is_attributed']\n",
    "y.head()"
   ]
  },
  {
   "cell_type": "code",
   "execution_count": 102,
   "metadata": {
    "collapsed": true
   },
   "outputs": [],
   "source": [
    "#y_c = np.argmax(y, axis=1)\n",
    "#y = pd.DataFrame(y_c)\n",
    "#y.columns = ['is_attributed']\n",
    "#y.head()"
   ]
  },
  {
   "cell_type": "code",
   "execution_count": 103,
   "metadata": {},
   "outputs": [
    {
     "data": {
      "text/plain": [
       "(18790469, 1)"
      ]
     },
     "execution_count": 103,
     "metadata": {},
     "output_type": "execute_result"
    }
   ],
   "source": [
    "y.shape"
   ]
  },
  {
   "cell_type": "code",
   "execution_count": 104,
   "metadata": {},
   "outputs": [
    {
     "data": {
      "text/html": [
       "<div>\n",
       "<style scoped>\n",
       "    .dataframe tbody tr th:only-of-type {\n",
       "        vertical-align: middle;\n",
       "    }\n",
       "\n",
       "    .dataframe tbody tr th {\n",
       "        vertical-align: top;\n",
       "    }\n",
       "\n",
       "    .dataframe thead th {\n",
       "        text-align: right;\n",
       "    }\n",
       "</style>\n",
       "<table border=\"1\" class=\"dataframe\">\n",
       "  <thead>\n",
       "    <tr style=\"text-align: right;\">\n",
       "      <th></th>\n",
       "      <th>click_id</th>\n",
       "      <th>is_attributed</th>\n",
       "    </tr>\n",
       "  </thead>\n",
       "  <tbody>\n",
       "    <tr>\n",
       "      <th>0</th>\n",
       "      <td>0</td>\n",
       "      <td>0.013694</td>\n",
       "    </tr>\n",
       "    <tr>\n",
       "      <th>1</th>\n",
       "      <td>1</td>\n",
       "      <td>0.011774</td>\n",
       "    </tr>\n",
       "    <tr>\n",
       "      <th>2</th>\n",
       "      <td>2</td>\n",
       "      <td>0.004334</td>\n",
       "    </tr>\n",
       "    <tr>\n",
       "      <th>3</th>\n",
       "      <td>3</td>\n",
       "      <td>0.003711</td>\n",
       "    </tr>\n",
       "    <tr>\n",
       "      <th>4</th>\n",
       "      <td>4</td>\n",
       "      <td>0.003187</td>\n",
       "    </tr>\n",
       "  </tbody>\n",
       "</table>\n",
       "</div>"
      ],
      "text/plain": [
       "  click_id  is_attributed\n",
       "0        0       0.013694\n",
       "1        1       0.011774\n",
       "2        2       0.004334\n",
       "3        3       0.003711\n",
       "4        4       0.003187"
      ]
     },
     "execution_count": 104,
     "metadata": {},
     "output_type": "execute_result"
    }
   ],
   "source": [
    "results = test[['click_id']].join(y)\n",
    "results.head()"
   ]
  },
  {
   "cell_type": "code",
   "execution_count": 105,
   "metadata": {
    "collapsed": true
   },
   "outputs": [],
   "source": [
    "results.to_csv(output_dir+'results.csv',index=False)"
   ]
  },
  {
   "cell_type": "code",
   "execution_count": 106,
   "metadata": {},
   "outputs": [
    {
     "data": {
      "text/plain": [
       "'model_output/parallel/t50/'"
      ]
     },
     "execution_count": 106,
     "metadata": {},
     "output_type": "execute_result"
    }
   ],
   "source": [
    "output_dir"
   ]
  },
  {
   "cell_type": "code",
   "execution_count": null,
   "metadata": {
    "collapsed": true
   },
   "outputs": [],
   "source": []
  }
 ],
 "metadata": {
  "kernelspec": {
   "display_name": "Python 3",
   "language": "python",
   "name": "python3"
  },
  "language_info": {
   "codemirror_mode": {
    "name": "ipython",
    "version": 3
   },
   "file_extension": ".py",
   "mimetype": "text/x-python",
   "name": "python",
   "nbconvert_exporter": "python",
   "pygments_lexer": "ipython3",
   "version": "3.6.4"
  }
 },
 "nbformat": 4,
 "nbformat_minor": 2
}
