{
 "cells": [
  {
   "cell_type": "code",
   "execution_count": 1,
   "metadata": {},
   "outputs": [
    {
     "name": "stderr",
     "output_type": "stream",
     "text": [
      "c:\\users\\son\\appdata\\local\\programs\\python\\python36\\lib\\site-packages\\h5py\\__init__.py:36: FutureWarning: Conversion of the second argument of issubdtype from `float` to `np.floating` is deprecated. In future, it will be treated as `np.float64 == np.dtype(float).type`.\n",
      "  from ._conv import register_converters as _register_converters\n",
      "Using TensorFlow backend.\n"
     ]
    }
   ],
   "source": [
    "import pickle\n",
    "with open('tokenizer.pickle', 'rb') as handle:\n",
    "    tokenizer = pickle.load(handle)"
   ]
  },
  {
   "cell_type": "code",
   "execution_count": 2,
   "metadata": {},
   "outputs": [],
   "source": [
    "import pandas as pd\n",
    "import numpy as np\n",
    "import random\n",
    "import os"
   ]
  },
  {
   "cell_type": "code",
   "execution_count": 3,
   "metadata": {},
   "outputs": [],
   "source": [
    "import keras\n",
    "from keras.preprocessing.text import Tokenizer\n",
    "import string\n",
    "from keras.preprocessing.sequence import pad_sequences\n",
    "from keras.models import Sequential\n",
    "from keras.layers import Dense, Dropout, Embedding, SpatialDropout1D, LSTM,Input,Conv1D,GlobalMaxPooling1D,BatchNormalization,MaxPooling1D,Flatten\n",
    "from keras.layers.wrappers import Bidirectional \n",
    "from keras.callbacks import ModelCheckpoint,EarlyStopping\n",
    "import os\n",
    "from sklearn.metrics import roc_auc_score \n",
    "import matplotlib.pyplot as plt \n",
    "import pandas as pd\n",
    "from sklearn.model_selection import train_test_split\n",
    "from sklearn import preprocessing\n",
    "from keras.models import Model\n",
    "from keras.callbacks import EarlyStopping\n",
    "import re\n",
    "%matplotlib inline\n",
    "import numpy as np\n",
    "import pandas as pd\n",
    "from keras.utils import to_categorical\n",
    "import h5py"
   ]
  },
  {
   "cell_type": "code",
   "execution_count": 4,
   "metadata": {},
   "outputs": [],
   "source": [
    "test_files = os.listdir('.\\processed_test_parts')"
   ]
  },
  {
   "cell_type": "code",
   "execution_count": 5,
   "metadata": {},
   "outputs": [
    {
     "data": {
      "text/plain": [
       "'part1.pkl'"
      ]
     },
     "execution_count": 5,
     "metadata": {},
     "output_type": "execute_result"
    }
   ],
   "source": [
    "test_files[0]"
   ]
  },
  {
   "cell_type": "code",
   "execution_count": 6,
   "metadata": {},
   "outputs": [],
   "source": [
    "n_unique_words = 10000 \n",
    "max_text_length = 4 \n",
    "pad_type = trunc_type = 'pre'\n",
    "def pad_seq(sequence):\n",
    "    return pad_sequences(sequence,maxlen=max_text_length,dtype='int32',padding='pre',truncating='pre',value=0.)\n",
    "\n",
    "from keras.models import load_model\n",
    "\n",
    "output_dir = 'model_output/parallel/t50/'\n",
    "model=load_model(output_dir+\"best_model.hdf5\")"
   ]
  },
  {
   "cell_type": "code",
   "execution_count": 13,
   "metadata": {},
   "outputs": [
    {
     "name": "stdout",
     "output_type": "stream",
     "text": [
      "loading 1th file...\n",
      "file loaded. mapping categoricals\n",
      "mapping done. Tokenizing now.\n",
      "predicting\n",
      "merging click id\n",
      "processes took 88.78847098350525 seconds for step1\n",
      "_________________________________________________________\n",
      "loading 2th file...\n",
      "file loaded. mapping categoricals\n",
      "mapping done. Tokenizing now.\n",
      "predicting\n",
      "merging click id\n",
      "processes took 88.6301281452179 seconds for step2\n",
      "_________________________________________________________\n",
      "loading 3th file...\n",
      "file loaded. mapping categoricals\n",
      "mapping done. Tokenizing now.\n",
      "predicting\n",
      "merging click id\n",
      "processes took 88.11283755302429 seconds for step3\n",
      "_________________________________________________________\n",
      "loading 4th file...\n",
      "file loaded. mapping categoricals\n",
      "mapping done. Tokenizing now.\n",
      "predicting\n",
      "merging click id\n",
      "processes took 87.69599938392639 seconds for step4\n",
      "_________________________________________________________\n",
      "loading 5th file...\n",
      "file loaded. mapping categoricals\n",
      "mapping done. Tokenizing now.\n",
      "predicting\n",
      "merging click id\n",
      "processes took 92.14401531219482 seconds for step5\n",
      "_________________________________________________________\n",
      "loading 6th file...\n",
      "file loaded. mapping categoricals\n",
      "mapping done. Tokenizing now.\n",
      "predicting\n",
      "merging click id\n",
      "processes took 92.08032536506653 seconds for step6\n",
      "_________________________________________________________\n",
      "loading 7th file...\n",
      "file loaded. mapping categoricals\n",
      "mapping done. Tokenizing now.\n",
      "predicting\n",
      "merging click id\n",
      "processes took 91.2969913482666 seconds for step7\n",
      "_________________________________________________________\n",
      "loading 8th file...\n",
      "file loaded. mapping categoricals\n",
      "mapping done. Tokenizing now.\n",
      "predicting\n",
      "merging click id\n",
      "processes took 91.47761583328247 seconds for step8\n",
      "_________________________________________________________\n",
      "loading 9th file...\n",
      "file loaded. mapping categoricals\n",
      "mapping done. Tokenizing now.\n",
      "predicting\n",
      "merging click id\n",
      "processes took 91.26438903808594 seconds for step9\n",
      "_________________________________________________________\n",
      "loading 10th file...\n",
      "file loaded. mapping categoricals\n",
      "mapping done. Tokenizing now.\n",
      "predicting\n",
      "merging click id\n",
      "processes took 88.01937508583069 seconds for step10\n",
      "_________________________________________________________\n",
      "loading 11th file...\n",
      "file loaded. mapping categoricals\n",
      "mapping done. Tokenizing now.\n",
      "predicting\n",
      "merging click id\n",
      "processes took 89.90218901634216 seconds for step11\n",
      "_________________________________________________________\n",
      "loading 12th file...\n",
      "file loaded. mapping categoricals\n",
      "mapping done. Tokenizing now.\n",
      "predicting\n",
      "merging click id\n",
      "processes took 91.61361646652222 seconds for step12\n",
      "_________________________________________________________\n",
      "loading 13th file...\n",
      "file loaded. mapping categoricals\n",
      "mapping done. Tokenizing now.\n",
      "predicting\n",
      "merging click id\n",
      "processes took 90.64617443084717 seconds for step13\n",
      "_________________________________________________________\n",
      "loading 14th file...\n",
      "file loaded. mapping categoricals\n",
      "mapping done. Tokenizing now.\n",
      "predicting\n",
      "merging click id\n",
      "processes took 90.20529294013977 seconds for step14\n",
      "_________________________________________________________\n",
      "loading 15th file...\n",
      "file loaded. mapping categoricals\n",
      "mapping done. Tokenizing now.\n",
      "predicting\n",
      "merging click id\n",
      "processes took 90.83569669723511 seconds for step15\n",
      "_________________________________________________________\n",
      "loading 16th file...\n",
      "file loaded. mapping categoricals\n",
      "mapping done. Tokenizing now.\n",
      "predicting\n",
      "merging click id\n",
      "processes took 90.92217087745667 seconds for step16\n",
      "_________________________________________________________\n",
      "loading 17th file...\n",
      "file loaded. mapping categoricals\n",
      "mapping done. Tokenizing now.\n",
      "predicting\n",
      "merging click id\n",
      "processes took 91.05500626564026 seconds for step17\n",
      "_________________________________________________________\n",
      "loading 18th file...\n",
      "file loaded. mapping categoricals\n",
      "mapping done. Tokenizing now.\n",
      "predicting\n",
      "merging click id\n",
      "processes took 91.09798121452332 seconds for step18\n",
      "_________________________________________________________\n",
      "loading 19th file...\n",
      "file loaded. mapping categoricals\n",
      "mapping done. Tokenizing now.\n",
      "predicting\n",
      "merging click id\n",
      "processes took 73.12942600250244 seconds for step19\n",
      "_________________________________________________________\n",
      "loading 20th file...\n",
      "file loaded. mapping categoricals\n",
      "mapping done. Tokenizing now.\n",
      "predicting\n",
      "merging click id\n"
     ]
    },
    {
     "ename": "KeyError",
     "evalue": "\"['click_id'] not in index\"",
     "output_type": "error",
     "traceback": [
      "\u001b[1;31m---------------------------------------------------------------------------\u001b[0m",
      "\u001b[1;31mKeyError\u001b[0m                                  Traceback (most recent call last)",
      "\u001b[1;32m<ipython-input-13-9f4b8b5c8c58>\u001b[0m in \u001b[0;36m<module>\u001b[1;34m()\u001b[0m\n\u001b[0;32m     21\u001b[0m     \u001b[0my\u001b[0m \u001b[1;33m=\u001b[0m \u001b[0mpd\u001b[0m\u001b[1;33m.\u001b[0m\u001b[0mDataFrame\u001b[0m\u001b[1;33m(\u001b[0m\u001b[0my\u001b[0m\u001b[1;33m)\u001b[0m\u001b[1;33m\u001b[0m\u001b[0m\n\u001b[0;32m     22\u001b[0m     \u001b[0my\u001b[0m\u001b[1;33m.\u001b[0m\u001b[0mcolumns\u001b[0m \u001b[1;33m=\u001b[0m \u001b[1;33m[\u001b[0m\u001b[1;34m'is_attributed'\u001b[0m\u001b[1;33m]\u001b[0m\u001b[1;33m\u001b[0m\u001b[0m\n\u001b[1;32m---> 23\u001b[1;33m     \u001b[0mresults\u001b[0m \u001b[1;33m=\u001b[0m \u001b[0mfit_data\u001b[0m\u001b[1;33m[\u001b[0m\u001b[1;33m[\u001b[0m\u001b[1;34m'click_id'\u001b[0m\u001b[1;33m]\u001b[0m\u001b[1;33m]\u001b[0m\u001b[1;33m.\u001b[0m\u001b[0mjoin\u001b[0m\u001b[1;33m(\u001b[0m\u001b[0my\u001b[0m\u001b[1;33m)\u001b[0m\u001b[1;33m\u001b[0m\u001b[0m\n\u001b[0m\u001b[0;32m     24\u001b[0m     \u001b[0mresults\u001b[0m\u001b[1;33m.\u001b[0m\u001b[0mto_pickle\u001b[0m\u001b[1;33m(\u001b[0m\u001b[0mresults_dir\u001b[0m\u001b[1;33m+\u001b[0m\u001b[1;34m'results'\u001b[0m\u001b[1;33m+\u001b[0m\u001b[0mstr\u001b[0m\u001b[1;33m(\u001b[0m\u001b[0mk\u001b[0m\u001b[1;33m)\u001b[0m\u001b[1;33m+\u001b[0m\u001b[1;34m'.pickle'\u001b[0m\u001b[1;33m)\u001b[0m\u001b[1;33m\u001b[0m\u001b[0m\n\u001b[0;32m     25\u001b[0m     \u001b[1;32mdel\u001b[0m \u001b[0mresults\u001b[0m\u001b[1;33m\u001b[0m\u001b[0m\n",
      "\u001b[1;32mc:\\users\\son\\appdata\\local\\programs\\python\\python36\\lib\\site-packages\\pandas\\core\\frame.py\u001b[0m in \u001b[0;36m__getitem__\u001b[1;34m(self, key)\u001b[0m\n\u001b[0;32m   2131\u001b[0m         \u001b[1;32mif\u001b[0m \u001b[0misinstance\u001b[0m\u001b[1;33m(\u001b[0m\u001b[0mkey\u001b[0m\u001b[1;33m,\u001b[0m \u001b[1;33m(\u001b[0m\u001b[0mSeries\u001b[0m\u001b[1;33m,\u001b[0m \u001b[0mnp\u001b[0m\u001b[1;33m.\u001b[0m\u001b[0mndarray\u001b[0m\u001b[1;33m,\u001b[0m \u001b[0mIndex\u001b[0m\u001b[1;33m,\u001b[0m \u001b[0mlist\u001b[0m\u001b[1;33m)\u001b[0m\u001b[1;33m)\u001b[0m\u001b[1;33m:\u001b[0m\u001b[1;33m\u001b[0m\u001b[0m\n\u001b[0;32m   2132\u001b[0m             \u001b[1;31m# either boolean or fancy integer index\u001b[0m\u001b[1;33m\u001b[0m\u001b[1;33m\u001b[0m\u001b[0m\n\u001b[1;32m-> 2133\u001b[1;33m             \u001b[1;32mreturn\u001b[0m \u001b[0mself\u001b[0m\u001b[1;33m.\u001b[0m\u001b[0m_getitem_array\u001b[0m\u001b[1;33m(\u001b[0m\u001b[0mkey\u001b[0m\u001b[1;33m)\u001b[0m\u001b[1;33m\u001b[0m\u001b[0m\n\u001b[0m\u001b[0;32m   2134\u001b[0m         \u001b[1;32melif\u001b[0m \u001b[0misinstance\u001b[0m\u001b[1;33m(\u001b[0m\u001b[0mkey\u001b[0m\u001b[1;33m,\u001b[0m \u001b[0mDataFrame\u001b[0m\u001b[1;33m)\u001b[0m\u001b[1;33m:\u001b[0m\u001b[1;33m\u001b[0m\u001b[0m\n\u001b[0;32m   2135\u001b[0m             \u001b[1;32mreturn\u001b[0m \u001b[0mself\u001b[0m\u001b[1;33m.\u001b[0m\u001b[0m_getitem_frame\u001b[0m\u001b[1;33m(\u001b[0m\u001b[0mkey\u001b[0m\u001b[1;33m)\u001b[0m\u001b[1;33m\u001b[0m\u001b[0m\n",
      "\u001b[1;32mc:\\users\\son\\appdata\\local\\programs\\python\\python36\\lib\\site-packages\\pandas\\core\\frame.py\u001b[0m in \u001b[0;36m_getitem_array\u001b[1;34m(self, key)\u001b[0m\n\u001b[0;32m   2175\u001b[0m             \u001b[1;32mreturn\u001b[0m \u001b[0mself\u001b[0m\u001b[1;33m.\u001b[0m\u001b[0m_take\u001b[0m\u001b[1;33m(\u001b[0m\u001b[0mindexer\u001b[0m\u001b[1;33m,\u001b[0m \u001b[0maxis\u001b[0m\u001b[1;33m=\u001b[0m\u001b[1;36m0\u001b[0m\u001b[1;33m,\u001b[0m \u001b[0mconvert\u001b[0m\u001b[1;33m=\u001b[0m\u001b[1;32mFalse\u001b[0m\u001b[1;33m)\u001b[0m\u001b[1;33m\u001b[0m\u001b[0m\n\u001b[0;32m   2176\u001b[0m         \u001b[1;32melse\u001b[0m\u001b[1;33m:\u001b[0m\u001b[1;33m\u001b[0m\u001b[0m\n\u001b[1;32m-> 2177\u001b[1;33m             \u001b[0mindexer\u001b[0m \u001b[1;33m=\u001b[0m \u001b[0mself\u001b[0m\u001b[1;33m.\u001b[0m\u001b[0mloc\u001b[0m\u001b[1;33m.\u001b[0m\u001b[0m_convert_to_indexer\u001b[0m\u001b[1;33m(\u001b[0m\u001b[0mkey\u001b[0m\u001b[1;33m,\u001b[0m \u001b[0maxis\u001b[0m\u001b[1;33m=\u001b[0m\u001b[1;36m1\u001b[0m\u001b[1;33m)\u001b[0m\u001b[1;33m\u001b[0m\u001b[0m\n\u001b[0m\u001b[0;32m   2178\u001b[0m             \u001b[1;32mreturn\u001b[0m \u001b[0mself\u001b[0m\u001b[1;33m.\u001b[0m\u001b[0m_take\u001b[0m\u001b[1;33m(\u001b[0m\u001b[0mindexer\u001b[0m\u001b[1;33m,\u001b[0m \u001b[0maxis\u001b[0m\u001b[1;33m=\u001b[0m\u001b[1;36m1\u001b[0m\u001b[1;33m,\u001b[0m \u001b[0mconvert\u001b[0m\u001b[1;33m=\u001b[0m\u001b[1;32mTrue\u001b[0m\u001b[1;33m)\u001b[0m\u001b[1;33m\u001b[0m\u001b[0m\n\u001b[0;32m   2179\u001b[0m \u001b[1;33m\u001b[0m\u001b[0m\n",
      "\u001b[1;32mc:\\users\\son\\appdata\\local\\programs\\python\\python36\\lib\\site-packages\\pandas\\core\\indexing.py\u001b[0m in \u001b[0;36m_convert_to_indexer\u001b[1;34m(self, obj, axis, is_setter)\u001b[0m\n\u001b[0;32m   1267\u001b[0m                 \u001b[1;32mif\u001b[0m \u001b[0mmask\u001b[0m\u001b[1;33m.\u001b[0m\u001b[0many\u001b[0m\u001b[1;33m(\u001b[0m\u001b[1;33m)\u001b[0m\u001b[1;33m:\u001b[0m\u001b[1;33m\u001b[0m\u001b[0m\n\u001b[0;32m   1268\u001b[0m                     raise KeyError('{mask} not in index'\n\u001b[1;32m-> 1269\u001b[1;33m                                    .format(mask=objarr[mask]))\n\u001b[0m\u001b[0;32m   1270\u001b[0m \u001b[1;33m\u001b[0m\u001b[0m\n\u001b[0;32m   1271\u001b[0m                 \u001b[1;32mreturn\u001b[0m \u001b[0m_values_from_object\u001b[0m\u001b[1;33m(\u001b[0m\u001b[0mindexer\u001b[0m\u001b[1;33m)\u001b[0m\u001b[1;33m\u001b[0m\u001b[0m\n",
      "\u001b[1;31mKeyError\u001b[0m: \"['click_id'] not in index\""
     ]
    }
   ],
   "source": [
    "import time\n",
    "results_dir = \"results\\\\\"\n",
    "t0 = time.time()\n",
    "for k in range(len(test_files)):\n",
    "    t1 = time.time()\n",
    "    print(\"loading \"+str(k+1)+\"th file...\")\n",
    "    fit_data = pd.read_pickle(  '.\\\\processed_test_parts\\\\'+'part'+str(k+1)+'.pkl' )\n",
    "    print(\"file loaded. mapping categoricals\")\n",
    "    fit_data['cat'] = fit_data['app'].map(str)+'a '+fit_data['channel'].map(str)+'c '+ fit_data['device'].map(str)+'d '+\\\n",
    "    fit_data['os'].map(str)+['os ']\n",
    "    print(\"mapping done. Tokenizing now.\")\n",
    "    fit_data['token_vec'] = tokenizer.texts_to_sequences(fit_data.cat.astype(str))\n",
    "    test_cat = pad_seq(fit_data.token_vec)\n",
    "    test_feat =fit_data[['ip','app_count','device_count','os_count','channel_count','click_count','apps',\n",
    "                 'devices','oss','channels','adoc','app_count_min','device_count_min','os_count_min',\n",
    "                  'channel_count_min','click_count_min','adoc_min','click_count_cumsum','click_count_cumsum_min'\n",
    "                 ]].values\n",
    "    \n",
    "    print(\"predicting\")\n",
    "    y = model.predict([test_cat,test_feat])\n",
    "    print(\"merging click id\")\n",
    "    y = pd.DataFrame(y)\n",
    "    y.columns = ['is_attributed']\n",
    "    results = fit_data[['click_id']].join(y)\n",
    "    results.to_pickle(results_dir+'results'+str(k)+'.pickle')\n",
    "    del results\n",
    "    del y\n",
    "    del test_cat\n",
    "    del test_feat\n",
    "    del fit_data\n",
    "    t2 = time.time()\n",
    "    print(\"processes took \" +str(t2-t1) +\" seconds for step\" +str(k+1))\n",
    "    print(\"_________________________________________________________\")\n",
    "t3=time.time()\n",
    "print(\"Whole processes took \" +str(t3-t0))"
   ]
  },
  {
   "cell_type": "markdown",
   "metadata": {},
   "source": [
    "#### collect results and merge"
   ]
  },
  {
   "cell_type": "code",
   "execution_count": 19,
   "metadata": {},
   "outputs": [
    {
     "name": "stdout",
     "output_type": "stream",
     "text": [
      "0\n",
      "5\n",
      "10\n",
      "15\n"
     ]
    }
   ],
   "source": [
    "result_files = os.listdir('results')\n",
    "frames = []\n",
    "data1 = pd.DataFrame()\n",
    "for l in np.arange(len(result_files)):\n",
    "    if l%5 ==0:\n",
    "        print(l)\n",
    "    data = pd.read_pickle('.\\\\results\\\\results'+str(l)+'.pickle')\n",
    "    frames =[data1,data]\n",
    "    data1 = pd.concat(frames)"
   ]
  },
  {
   "cell_type": "code",
   "execution_count": 21,
   "metadata": {},
   "outputs": [],
   "source": [
    "data1.to_csv('final_results.csv',index=False)"
   ]
  },
  {
   "cell_type": "code",
   "execution_count": null,
   "metadata": {},
   "outputs": [],
   "source": []
  }
 ],
 "metadata": {
  "kernelspec": {
   "display_name": "Python 3",
   "language": "python",
   "name": "python3"
  },
  "language_info": {
   "codemirror_mode": {
    "name": "ipython",
    "version": 3
   },
   "file_extension": ".py",
   "mimetype": "text/x-python",
   "name": "python",
   "nbconvert_exporter": "python",
   "pygments_lexer": "ipython3",
   "version": "3.6.4"
  }
 },
 "nbformat": 4,
 "nbformat_minor": 2
}
